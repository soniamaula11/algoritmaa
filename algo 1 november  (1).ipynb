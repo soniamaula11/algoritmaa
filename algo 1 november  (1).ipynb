{
 "cells": [
  {
   "cell_type": "code",
   "execution_count": 5,
   "id": "ddc4b3f0-9f52-430b-9efc-e236322d7716",
   "metadata": {},
   "outputs": [
    {
     "name": "stdin",
     "output_type": "stream",
     "text": [
      "Masukkan angka pertama:  1.2\n",
      "Masukkan angka kedua:  2.3\n"
     ]
    },
    {
     "name": "stdout",
     "output_type": "stream",
     "text": [
      "Rata-rata dari dua angka tersebut adalah: 1.75\n"
     ]
    }
   ],
   "source": [
    "def hitung(angka1, angka2):\n",
    "    rata_rata = (angka1 + angka2) / 2\n",
    "    return rata_rata\n",
    "\n",
    "angka1 = float(input(\"Masukkan angka pertama: \"))\n",
    "angka2 = float(input(\"Masukkan angka kedua: \"))\n",
    "\n",
    "jumlah = hitung(angka1, angka2)\n",
    "print(\"Rata-rata dari dua angka tersebut adalah:\", jumlah)\n",
    " "
   ]
  },
  {
   "cell_type": "code",
   "execution_count": null,
   "id": "9cb46f8d-dd8c-4707-9782-80b29f1a1840",
   "metadata": {},
   "outputs": [],
   "source": []
  }
 ],
 "metadata": {
  "kernelspec": {
   "display_name": "Python 3 (ipykernel)",
   "language": "python",
   "name": "python3"
  },
  "language_info": {
   "codemirror_mode": {
    "name": "ipython",
    "version": 3
   },
   "file_extension": ".py",
   "mimetype": "text/x-python",
   "name": "python",
   "nbconvert_exporter": "python",
   "pygments_lexer": "ipython3",
   "version": "3.12.4"
  }
 },
 "nbformat": 4,
 "nbformat_minor": 5
}
