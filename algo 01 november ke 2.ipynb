{
 "cells": [
  {
   "cell_type": "code",
   "execution_count": 1,
   "id": "09dcb93a-774e-4327-9559-f4364d4d4112",
   "metadata": {},
   "outputs": [
    {
     "name": "stdin",
     "output_type": "stream",
     "text": [
      "Bulan (1-12):  3\n"
     ]
    },
    {
     "name": "stdout",
     "output_type": "stream",
     "text": [
      "Ada 31 hari\n"
     ]
    },
    {
     "name": "stdin",
     "output_type": "stream",
     "text": [
      "Bulan (1-12):  21\n"
     ]
    },
    {
     "name": "stdout",
     "output_type": "stream",
     "text": [
      "Dadah\n"
     ]
    }
   ],
   "source": [
    "def cek_hari_dalam_bulan():\n",
    "    while True:\n",
    "        bulan = int(input(\"Bulan (1-12): \"))\n",
    "        if bulan < 1 or bulan > 12:\n",
    "            print(\"Dadah\")\n",
    "            break\n",
    "        elif bulan in [1, 3, 5, 7, 8, 10, 12]:\n",
    "            print(\"Ada 31 hari\")\n",
    "        elif bulan in [4, 6, 9, 11]:\n",
    "            print(\"Ada 30 hari\")\n",
    "        elif bulan == 2:\n",
    "            tahun = int(input(\"Tahun: \"))\n",
    "            if (tahun % 4 == 0 and tahun % 100 != 0) or (tahun % 400 == 0):\n",
    "                print(\"Ada 29 hari\")\n",
    "            else:\n",
    "                print(\"Ada 28 hari\")\n",
    "\n",
    "cek_hari_dalam_bulan()"
   ]
  },
  {
   "cell_type": "code",
   "execution_count": null,
   "id": "b26020f4-eccb-48c2-be90-082bb1bb6a9f",
   "metadata": {},
   "outputs": [
    {
     "name": "stdin",
     "output_type": "stream",
     "text": [
      "Masukkan nama bulan :  03\n"
     ]
    }
   ],
   "source": [
    "def jumlah_hari(bulan, tahun):\n",
    "    hari_per_bulan = [31, 28, 31, 30, 31,30,31,31,30,31]\n",
    "    if (tahun % 4 == 0 and tahun % 100 != 0) or (tahun % 400 == 0):\n",
    "        hari_per_bulan[1] = 29\n",
    "        return hari_per_bulan[bulan - 1]\n",
    "bulan = 0\n",
    "tahun = 0\n",
    "while bulan < 1 or bulan > 12:\n",
    "    try:\n",
    "        bulan = int(input(\"Masukkan nama bulan : \"))\n",
    "    except ValueError:\n",
    "        print(\"Input ga valid\")\n",
    "\n",
    "while tahun <= 0:\n",
    "    try:\n",
    "        tahun = int(input(\"Masukkan tahun : \"))\n",
    "    except ValueError:\n",
    "        print(\"Input tidak valid\")\n",
    "\n",
    "jumlah = jumlah_hari(bulan, tahun)\n",
    "print(f\"Jumlah hari dalam bulan {bulan} tahun {tahun} adalah {jumlah} hari\")"
   ]
  },
  {
   "cell_type": "code",
   "execution_count": null,
   "id": "28e13b25-73a9-4b9c-9aef-204fe1b48f66",
   "metadata": {},
   "outputs": [],
   "source": []
  }
 ],
 "metadata": {
  "kernelspec": {
   "display_name": "Python 3 (ipykernel)",
   "language": "python",
   "name": "python3"
  },
  "language_info": {
   "codemirror_mode": {
    "name": "ipython",
    "version": 3
   },
   "file_extension": ".py",
   "mimetype": "text/x-python",
   "name": "python",
   "nbconvert_exporter": "python",
   "pygments_lexer": "ipython3",
   "version": "3.12.4"
  }
 },
 "nbformat": 4,
 "nbformat_minor": 5
}
